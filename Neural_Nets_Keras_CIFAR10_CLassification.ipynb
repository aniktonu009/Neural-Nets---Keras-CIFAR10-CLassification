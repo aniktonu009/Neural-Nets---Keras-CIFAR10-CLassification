{
  "cells": [
    {
      "cell_type": "markdown",
      "id": "8a27c651",
      "metadata": {
        "id": "8a27c651"
      },
      "source": [
        "## Imports"
      ]
    },
    {
      "cell_type": "markdown",
      "id": "bb675860",
      "metadata": {
        "id": "bb675860"
      },
      "source": [
        "#### This project random numbers are going to be part of the algorithms that are going to be used. And if we don't have the same starting point, or if we don't have the same seed for these random numbers, then we might get very different results. So in order for this module and for this project to be reproducible and to avoid confusion,  we should both set the same seed in the very beginning of this notebook."
      ]
    },
    {
      "cell_type": "code",
      "execution_count": 50,
      "id": "bb563aea",
      "metadata": {
        "id": "bb563aea"
      },
      "outputs": [],
      "source": [
        "import os\n",
        "import random\n",
        "import tensorflow as tf\n",
        "import itertools\n",
        "\n",
        "random.seed(888)\n",
        "tf.random.set_seed(404)\n",
        "\n",
        "\n",
        "import numpy as np\n",
        "import pandas as pd\n",
        "import keras\n",
        "import matplotlib.pyplot as plt\n",
        "\n",
        "from keras.datasets import cifar10\n",
        "from keras.models import Sequential\n",
        "from keras.layers import Dense, Activation,Dropout\n",
        "\n",
        "from time import strftime\n",
        "\n",
        "from sklearn.metrics import confusion_matrix\n",
        "\n",
        "from IPython.display import display\n",
        "from keras.preprocessing.image import array_to_img\n",
        "%matplotlib inline"
      ]
    },
    {
      "cell_type": "markdown",
      "id": "d9521791",
      "metadata": {
        "id": "d9521791"
      },
      "source": [
        "## Get the Data"
      ]
    },
    {
      "cell_type": "code",
      "execution_count": 4,
      "id": "e6e69435",
      "metadata": {
        "id": "e6e69435"
      },
      "outputs": [],
      "source": [
        "(X_train, y_train) , (X_test, y_test) = cifar10.load_data()"
      ]
    },
    {
      "cell_type": "code",
      "execution_count": 5,
      "id": "13ed8a19",
      "metadata": {
        "colab": {
          "base_uri": "https://localhost:8080/"
        },
        "id": "13ed8a19",
        "outputId": "4d26d2c1-ae83-48a3-f79c-df08b10ffe78"
      },
      "outputs": [
        {
          "output_type": "execute_result",
          "data": {
            "text/plain": [
              "numpy.ndarray"
            ]
          },
          "metadata": {},
          "execution_count": 5
        }
      ],
      "source": [
        "type(X_train)"
      ]
    },
    {
      "cell_type": "markdown",
      "id": "4d6e0c28",
      "metadata": {
        "id": "4d6e0c28"
      },
      "source": [
        "# Constants"
      ]
    },
    {
      "cell_type": "code",
      "execution_count": 6,
      "id": "bfd97259",
      "metadata": {
        "id": "bfd97259"
      },
      "outputs": [],
      "source": [
        "LABEL_NAMES = ['Plane', 'Car', 'Bird', 'Cat','Deer', 'Dog','Frog','Horse', 'Ship','Truck']\n",
        "IMAGE_WIDTH = 32\n",
        "IMAGE_HEIGHT = 32\n",
        "IMAGE_PIXELS = IMAGE_WIDTH * IMAGE_HEIGHT\n",
        "COLOR_CHANNELS = 3\n",
        "TOTAL_INPUTS = IMAGE_PIXELS * COLOR_CHANNELS\n",
        "VALIDATION_SIZE= 10000\n",
        "SMALL_TRAIN_SIZE = 1000"
      ]
    },
    {
      "cell_type": "markdown",
      "id": "6319afdb",
      "metadata": {
        "id": "6319afdb"
      },
      "source": [
        "## EXPLORE DATA"
      ]
    },
    {
      "cell_type": "code",
      "execution_count": 7,
      "id": "9435803c",
      "metadata": {
        "colab": {
          "base_uri": "https://localhost:8080/"
        },
        "id": "9435803c",
        "outputId": "d6342935-84bb-43ac-cc99-728c7ec2316a"
      },
      "outputs": [
        {
          "output_type": "execute_result",
          "data": {
            "text/plain": [
              "(50000, 32, 32, 3)"
            ]
          },
          "metadata": {},
          "execution_count": 7
        }
      ],
      "source": [
        "X_train.shape"
      ]
    },
    {
      "cell_type": "code",
      "execution_count": 8,
      "id": "f9436564",
      "metadata": {
        "colab": {
          "base_uri": "https://localhost:8080/",
          "height": 49
        },
        "id": "f9436564",
        "outputId": "5720937d-7195-4cdc-cbc1-ef90a4f841fb"
      },
      "outputs": [
        {
          "output_type": "display_data",
          "data": {
            "text/plain": [
              "<PIL.Image.Image image mode=RGB size=32x32>"
            ],
            "image/png": "[encoded data removed]"
          },
          "metadata": {}
        }
      ],
      "source": [
        "pic = array_to_img(X_train[5])\n",
        "display(pic)"
      ]
    },
    {
      "cell_type": "code",
      "execution_count": 9,
      "id": "7722fdcc",
      "metadata": {
        "colab": {
          "base_uri": "https://localhost:8080/"
        },
        "id": "7722fdcc",
        "outputId": "31ce98c8-8f74-4090-d682-26ecaab4f1ab"
      },
      "outputs": [
        {
          "output_type": "execute_result",
          "data": {
            "text/plain": [
              "(50000, 1)"
            ]
          },
          "metadata": {},
          "execution_count": 9
        }
      ],
      "source": [
        "y_train.shape"
      ]
    },
    {
      "cell_type": "code",
      "execution_count": 10,
      "id": "35c81d7c",
      "metadata": {
        "colab": {
          "base_uri": "https://localhost:8080/"
        },
        "id": "35c81d7c",
        "outputId": "7f5d2453-2630-4305-ed44-dd7371db2247"
      },
      "outputs": [
        {
          "output_type": "execute_result",
          "data": {
            "text/plain": [
              "7"
            ]
          },
          "metadata": {},
          "execution_count": 10
        }
      ],
      "source": [
        "y_train[7][0]"
      ]
    },
    {
      "cell_type": "code",
      "execution_count": 11,
      "id": "49caf186",
      "metadata": {
        "colab": {
          "base_uri": "https://localhost:8080/",
          "height": 36
        },
        "id": "49caf186",
        "outputId": "18b8c04e-7fc5-4f1f-f9cb-298d5c9f597b"
      },
      "outputs": [
        {
          "output_type": "execute_result",
          "data": {
            "text/plain": [
              "'Horse'"
            ],
            "application/vnd.google.colaboratory.intrinsic+json": {
              "type": "string"
            }
          },
          "metadata": {},
          "execution_count": 11
        }
      ],
      "source": [
        "LABEL_NAMES[y_train[7][0]]"
      ]
    },
    {
      "cell_type": "code",
      "execution_count": 12,
      "id": "1f5a4350",
      "metadata": {
        "colab": {
          "base_uri": "https://localhost:8080/",
          "height": 430
        },
        "id": "1f5a4350",
        "outputId": "69c26a11-6eeb-46d3-a84f-d105f298b4f7"
      },
      "outputs": [
        {
          "output_type": "display_data",
          "data": {
            "text/plain": [
              "<Figure size 640x480 with 1 Axes>"
            ],
            "image/png": "[encoded data removed]"
          },
          "metadata": {}
        }
      ],
      "source": [
        "plt.imshow(X_train [4])\n",
        "plt.show()"
      ]
    },
    {
      "cell_type": "code",
      "execution_count": 13,
      "id": "2c09dce7",
      "metadata": {
        "colab": {
          "base_uri": "https://localhost:8080/",
          "height": 84
        },
        "id": "2c09dce7",
        "outputId": "f87341fd-d811-455a-8926-87e507c9a933"
      },
      "outputs": [
        {
          "output_type": "display_data",
          "data": {
            "text/plain": [
              "<Figure size 1000x600 with 10 Axes>"
            ],
            "image/png": "[encoded data removed]"
          },
          "metadata": {}
        }
      ],
      "source": [
        "plt.figure(figsize=(10,6))\n",
        "\n",
        "for i in range(10):\n",
        "    plt.subplot(1,10,i+1)\n",
        "    plt.xticks([])\n",
        "    plt.yticks([])\n",
        "    plt.imshow(X_train[i])"
      ]
    },
    {
      "cell_type": "code",
      "execution_count": 14,
      "id": "ebae1eeb",
      "metadata": {
        "colab": {
          "base_uri": "https://localhost:8080/"
        },
        "id": "ebae1eeb",
        "outputId": "6d634129-a22b-4a8a-fc7f-98c8d5ce0452"
      },
      "outputs": [
        {
          "output_type": "execute_result",
          "data": {
            "text/plain": [
              "(10000, 32, 32, 3)"
            ]
          },
          "metadata": {},
          "execution_count": 14
        }
      ],
      "source": [
        "X_test.shape"
      ]
    },
    {
      "cell_type": "markdown",
      "id": "74e4c398",
      "metadata": {
        "id": "74e4c398"
      },
      "source": [
        "## Preproocessing Data"
      ]
    },
    {
      "cell_type": "code",
      "execution_count": 15,
      "id": "6d7f0632",
      "metadata": {
        "colab": {
          "base_uri": "https://localhost:8080/"
        },
        "id": "6d7f0632",
        "outputId": "a7890076-e092-4115-c4d6-3b1e26b8c3cd"
      },
      "outputs": [
        {
          "output_type": "execute_result",
          "data": {
            "text/plain": [
              "numpy.uint8"
            ]
          },
          "metadata": {},
          "execution_count": 15
        }
      ],
      "source": [
        "type(X_train[7][0][0][0])"
      ]
    },
    {
      "cell_type": "code",
      "execution_count": 16,
      "id": "d314a079",
      "metadata": {
        "id": "d314a079"
      },
      "outputs": [],
      "source": [
        "X_train, X_test = X_train/ 255.0, X_test/255.0"
      ]
    },
    {
      "cell_type": "code",
      "execution_count": 17,
      "id": "cfbb3af1",
      "metadata": {
        "colab": {
          "base_uri": "https://localhost:8080/"
        },
        "id": "cfbb3af1",
        "outputId": "8064c568-6ea4-4cd5-c7b1-c05458885f17"
      },
      "outputs": [
        {
          "output_type": "execute_result",
          "data": {
            "text/plain": [
              "(50000, 32, 32, 3)"
            ]
          },
          "metadata": {},
          "execution_count": 17
        }
      ],
      "source": [
        "X_train.shape"
      ]
    },
    {
      "cell_type": "code",
      "execution_count": 18,
      "id": "5a0a946e",
      "metadata": {
        "colab": {
          "base_uri": "https://localhost:8080/"
        },
        "id": "5a0a946e",
        "outputId": "c41ae936-ce10-4649-ee22-f6f54ccd4762"
      },
      "outputs": [
        {
          "output_type": "execute_result",
          "data": {
            "text/plain": [
              "(10000, 32, 32, 3)"
            ]
          },
          "metadata": {},
          "execution_count": 18
        }
      ],
      "source": [
        "X_test.shape"
      ]
    },
    {
      "cell_type": "code",
      "execution_count": 19,
      "id": "96a3f227",
      "metadata": {
        "id": "96a3f227"
      },
      "outputs": [],
      "source": [
        "X_train = X_train.reshape(X_train.shape[0],TOTAL_INPUTS)"
      ]
    },
    {
      "cell_type": "code",
      "execution_count": 20,
      "id": "be5b44bf",
      "metadata": {
        "colab": {
          "base_uri": "https://localhost:8080/"
        },
        "id": "be5b44bf",
        "outputId": "fc3698ac-0c3a-433a-f04a-91ff690a26ac"
      },
      "outputs": [
        {
          "output_type": "execute_result",
          "data": {
            "text/plain": [
              "(50000, 3072)"
            ]
          },
          "metadata": {},
          "execution_count": 20
        }
      ],
      "source": [
        "X_train.shape"
      ]
    },
    {
      "cell_type": "code",
      "execution_count": 21,
      "id": "107d9cb1",
      "metadata": {
        "id": "107d9cb1"
      },
      "outputs": [],
      "source": [
        "X_test = X_test.reshape(X_test.shape[0],TOTAL_INPUTS)"
      ]
    },
    {
      "cell_type": "code",
      "execution_count": 22,
      "id": "6c48340c",
      "metadata": {
        "colab": {
          "base_uri": "https://localhost:8080/"
        },
        "id": "6c48340c",
        "outputId": "6d30c58f-175f-47a5-c194-633449509a17"
      },
      "outputs": [
        {
          "output_type": "execute_result",
          "data": {
            "text/plain": [
              "(10000, 3072)"
            ]
          },
          "metadata": {},
          "execution_count": 22
        }
      ],
      "source": [
        "X_test.shape"
      ]
    },
    {
      "cell_type": "code",
      "execution_count": 23,
      "id": "19c65242",
      "metadata": {
        "id": "19c65242"
      },
      "outputs": [],
      "source": [
        "X_val = X_train[:VALIDATION_SIZE]\n",
        "y_val = y_train[:VALIDATION_SIZE]"
      ]
    },
    {
      "cell_type": "code",
      "execution_count": 24,
      "id": "de7a06e9",
      "metadata": {
        "colab": {
          "base_uri": "https://localhost:8080/"
        },
        "id": "de7a06e9",
        "outputId": "ab3280cc-57cb-4651-dc9b-2b87e5dff21e"
      },
      "outputs": [
        {
          "output_type": "execute_result",
          "data": {
            "text/plain": [
              "(10000, 3072)"
            ]
          },
          "metadata": {},
          "execution_count": 24
        }
      ],
      "source": [
        "X_val.shape"
      ]
    },
    {
      "cell_type": "code",
      "execution_count": 25,
      "id": "d07f44bb",
      "metadata": {
        "colab": {
          "base_uri": "https://localhost:8080/"
        },
        "id": "d07f44bb",
        "outputId": "5db25df0-6937-481d-8089-3877040146d4"
      },
      "outputs": [
        {
          "output_type": "execute_result",
          "data": {
            "text/plain": [
              "(10000, 1)"
            ]
          },
          "metadata": {},
          "execution_count": 25
        }
      ],
      "source": [
        "y_val.shape"
      ]
    },
    {
      "cell_type": "code",
      "source": [
        "X_train_all = X_train[VALIDATION_SIZE:]\n",
        "y_train_all = y_train[VALIDATION_SIZE:]"
      ],
      "metadata": {
        "id": "IXcW6g_ppj-g"
      },
      "id": "IXcW6g_ppj-g",
      "execution_count": 26,
      "outputs": []
    },
    {
      "cell_type": "code",
      "source": [
        "X_train_all.shape"
      ],
      "metadata": {
        "colab": {
          "base_uri": "https://localhost:8080/"
        },
        "id": "eSxDI4Zcp4Ol",
        "outputId": "0c00ce53-1a15-466c-be85-8e3febae1f07"
      },
      "id": "eSxDI4Zcp4Ol",
      "execution_count": 27,
      "outputs": [
        {
          "output_type": "execute_result",
          "data": {
            "text/plain": [
              "(40000, 3072)"
            ]
          },
          "metadata": {},
          "execution_count": 27
        }
      ]
    },
    {
      "cell_type": "markdown",
      "source": [
        "## Create a small dataset"
      ],
      "metadata": {
        "id": "YNVSm_d8qNak"
      },
      "id": "YNVSm_d8qNak"
    },
    {
      "cell_type": "code",
      "source": [
        "X_train_xs = X_train_all[:SMALL_TRAIN_SIZE]\n",
        "y_train_xs = y_train_all[:SMALL_TRAIN_SIZE]"
      ],
      "metadata": {
        "id": "z5HlMOh5qTeV"
      },
      "id": "z5HlMOh5qTeV",
      "execution_count": 28,
      "outputs": []
    },
    {
      "cell_type": "markdown",
      "id": "c7d7f0e1",
      "metadata": {
        "id": "c7d7f0e1"
      },
      "source": [
        "## Define the NN using Keras"
      ]
    },
    {
      "cell_type": "code",
      "execution_count": 29,
      "id": "d00a065d",
      "metadata": {
        "id": "d00a065d"
      },
      "outputs": [],
      "source": [
        "model_1 = Sequential([\n",
        "    Dense(units = 128, input_dim = TOTAL_INPUTS, activation = 'relu'),\n",
        "    Dense(units=64, activation= 'relu'),\n",
        "    Dense(units=16, activation='relu'),\n",
        "    Dense(units=10, activation='softmax')\n",
        "])\n",
        "\n",
        "## Compile our Model\n",
        "model_1.compile(optimizer='adam',\n",
        "                loss = 'sparse_categorical_crossentropy',\n",
        "                metrics= ['accuracy'])"
      ]
    },
    {
      "cell_type": "code",
      "execution_count": 30,
      "id": "f4dda594",
      "metadata": {
        "id": "f4dda594"
      },
      "outputs": [],
      "source": [
        "model_2 = Sequential()\n",
        "model_2.add(Dropout(0.2, seed=42, input_shape=(TOTAL_INPUTS,)))\n",
        "model_2.add(Dense(128, activation='relu', name='m2_hidden1'))\n",
        "model_2.add(Dense(64, activation='relu', name='m2_hidden2'))\n",
        "model_2.add(Dense(15, activation='relu', name='m2_hidden3'))\n",
        "model_2.add(Dense(10, activation='softmax', name='m2_output'))\n",
        "\n",
        "model_2.compile(optimizer='adam',\n",
        "                loss='sparse_categorical_crossentropy',\n",
        "                metrics=['accuracy'])"
      ]
    },
    {
      "cell_type": "code",
      "execution_count": 31,
      "id": "94bb71fd",
      "metadata": {
        "colab": {
          "base_uri": "https://localhost:8080/"
        },
        "id": "94bb71fd",
        "outputId": "ce3b7427-9e74-4abc-bdd7-dfc64c7ee64a"
      },
      "outputs": [
        {
          "output_type": "execute_result",
          "data": {
            "text/plain": [
              "keras.src.engine.sequential.Sequential"
            ]
          },
          "metadata": {},
          "execution_count": 31
        }
      ],
      "source": [
        "type(model_1)"
      ]
    },
    {
      "cell_type": "code",
      "execution_count": 32,
      "id": "812efd2a",
      "metadata": {
        "colab": {
          "base_uri": "https://localhost:8080/"
        },
        "id": "812efd2a",
        "outputId": "8e1341ef-50e2-426d-8de8-ab608bd0b655"
      },
      "outputs": [
        {
          "output_type": "execute_result",
          "data": {
            "text/plain": [
              "keras.src.engine.sequential.Sequential"
            ]
          },
          "metadata": {},
          "execution_count": 32
        }
      ],
      "source": [
        "type(model_2)"
      ]
    },
    {
      "cell_type": "code",
      "execution_count": 33,
      "id": "0e105358",
      "metadata": {
        "colab": {
          "base_uri": "https://localhost:8080/"
        },
        "id": "0e105358",
        "outputId": "cf1e9dcd-1db5-4180-97db-91631d6ec4e8"
      },
      "outputs": [
        {
          "output_type": "stream",
          "name": "stdout",
          "text": [
            "Model: \"sequential\"\n",
            "_________________________________________________________________\n",
            " Layer (type)                Output Shape              Param #   \n",
            "=================================================================\n",
            " dense (Dense)               (None, 128)               393344    \n",
            "                                                                 \n",
            " dense_1 (Dense)             (None, 64)                8256      \n",
            "                                                                 \n",
            " dense_2 (Dense)             (None, 16)                1040      \n",
            "                                                                 \n",
            " dense_3 (Dense)             (None, 10)                170       \n",
            "                                                                 \n",
            "=================================================================\n",
            "Total params: 402810 (1.54 MB)\n",
            "Trainable params: 402810 (1.54 MB)\n",
            "Non-trainable params: 0 (0.00 Byte)\n",
            "_________________________________________________________________\n"
          ]
        }
      ],
      "source": [
        "model_1.summary()"
      ]
    },
    {
      "cell_type": "code",
      "execution_count": 34,
      "id": "fdd67b1a",
      "metadata": {
        "colab": {
          "base_uri": "https://localhost:8080/"
        },
        "id": "fdd67b1a",
        "outputId": "6e101547-3b40-4bda-c626-8e2bfded7581"
      },
      "outputs": [
        {
          "output_type": "stream",
          "name": "stdout",
          "text": [
            "Model: \"sequential_1\"\n",
            "_________________________________________________________________\n",
            " Layer (type)                Output Shape              Param #   \n",
            "=================================================================\n",
            " dropout (Dropout)           (None, 3072)              0         \n",
            "                                                                 \n",
            " m2_hidden1 (Dense)          (None, 128)               393344    \n",
            "                                                                 \n",
            " m2_hidden2 (Dense)          (None, 64)                8256      \n",
            "                                                                 \n",
            " m2_hidden3 (Dense)          (None, 15)                975       \n",
            "                                                                 \n",
            " m2_output (Dense)           (None, 10)                160       \n",
            "                                                                 \n",
            "=================================================================\n",
            "Total params: 402735 (1.54 MB)\n",
            "Trainable params: 402735 (1.54 MB)\n",
            "Non-trainable params: 0 (0.00 Byte)\n",
            "_________________________________________________________________\n"
          ]
        }
      ],
      "source": [
        "model_2.summary()"
      ]
    },
    {
      "cell_type": "markdown",
      "id": "6631b29a",
      "metadata": {
        "id": "6631b29a"
      },
      "source": [
        "## Fit the model"
      ]
    },
    {
      "cell_type": "code",
      "source": [
        "samples_per_batch = 1000"
      ],
      "metadata": {
        "id": "LHUJrZK4r2po"
      },
      "id": "LHUJrZK4r2po",
      "execution_count": 35,
      "outputs": []
    },
    {
      "cell_type": "code",
      "execution_count": 36,
      "id": "a84cecf5",
      "metadata": {
        "colab": {
          "base_uri": "https://localhost:8080/"
        },
        "id": "a84cecf5",
        "outputId": "3798836e-33c2-40d3-eb95-e2bc77715844"
      },
      "outputs": [
        {
          "output_type": "stream",
          "name": "stdout",
          "text": [
            "CPU times: user 1min 6s, sys: 5.33 s, total: 1min 12s\n",
            "Wall time: 1min 15s\n"
          ]
        },
        {
          "output_type": "execute_result",
          "data": {
            "text/plain": [
              "<keras.src.callbacks.History at 0x790cd027ca60>"
            ]
          },
          "metadata": {},
          "execution_count": 36
        }
      ],
      "source": [
        "%%time\n",
        "nr_epochs = 150\n",
        "model_1.fit(X_train_xs, y_train_xs, batch_size= samples_per_batch, epochs=nr_epochs,\n",
        "             verbose = 0, validation_data= (X_val, y_val))"
      ]
    },
    {
      "cell_type": "code",
      "execution_count": 37,
      "id": "aaba547a",
      "metadata": {
        "colab": {
          "base_uri": "https://localhost:8080/"
        },
        "id": "aaba547a",
        "outputId": "25264e9e-2220-4dd8-a735-ee5528df668b"
      },
      "outputs": [
        {
          "output_type": "stream",
          "name": "stdout",
          "text": [
            "CPU times: user 1min 11s, sys: 4.36 s, total: 1min 16s\n",
            "Wall time: 1min 25s\n"
          ]
        },
        {
          "output_type": "execute_result",
          "data": {
            "text/plain": [
              "<keras.src.callbacks.History at 0x790cc441d1b0>"
            ]
          },
          "metadata": {},
          "execution_count": 37
        }
      ],
      "source": [
        "%%time\n",
        "nr_epochs = 150\n",
        "model_2.fit(X_train_xs, y_train_xs, batch_size= samples_per_batch, epochs=nr_epochs,\n",
        "             verbose = 0, validation_data= (X_val, y_val))"
      ]
    },
    {
      "cell_type": "code",
      "execution_count": 38,
      "id": "35234ae9",
      "metadata": {
        "colab": {
          "base_uri": "https://localhost:8080/"
        },
        "id": "35234ae9",
        "outputId": "9324bdc8-11ee-46de-80d3-c5be66ac9e63"
      },
      "outputs": [
        {
          "output_type": "stream",
          "name": "stdout",
          "text": [
            "CPU times: user 5min 48s, sys: 10.9 s, total: 5min 59s\n",
            "Wall time: 4min 23s\n"
          ]
        },
        {
          "output_type": "execute_result",
          "data": {
            "text/plain": [
              "<keras.src.callbacks.History at 0x790cc441cb80>"
            ]
          },
          "metadata": {},
          "execution_count": 38
        }
      ],
      "source": [
        "%%time\n",
        "nr_epochs = 100\n",
        "model_1.fit(X_train_all, y_train_all, batch_size= samples_per_batch, epochs=nr_epochs,\n",
        "             verbose = 0, validation_data= (X_val, y_val))"
      ]
    },
    {
      "cell_type": "code",
      "source": [
        "%%time\n",
        "nr_epochs = 100\n",
        "model_2.fit(X_train_all, y_train_all, batch_size= samples_per_batch, epochs=nr_epochs,\n",
        "             verbose = 0, validation_data= (X_val, y_val))"
      ],
      "metadata": {
        "colab": {
          "base_uri": "https://localhost:8080/"
        },
        "id": "LfcOW1prsMqP",
        "outputId": "d5041381-3eee-48f0-abb6-de4a7e9aa3cc"
      },
      "id": "LfcOW1prsMqP",
      "execution_count": 39,
      "outputs": [
        {
          "output_type": "stream",
          "name": "stdout",
          "text": [
            "CPU times: user 8min 17s, sys: 9.94 s, total: 8min 27s\n",
            "Wall time: 6min 23s\n"
          ]
        },
        {
          "output_type": "execute_result",
          "data": {
            "text/plain": [
              "<keras.src.callbacks.History at 0x790ccae73460>"
            ]
          },
          "metadata": {},
          "execution_count": 39
        }
      ]
    },
    {
      "cell_type": "markdown",
      "source": [
        "## Predicated on Indivudual Images"
      ],
      "metadata": {
        "id": "AM2VRlaJx0pK"
      },
      "id": "AM2VRlaJx0pK"
    },
    {
      "cell_type": "code",
      "source": [
        "X_val.shape"
      ],
      "metadata": {
        "colab": {
          "base_uri": "https://localhost:8080/"
        },
        "id": "RaD0BItBzY6h",
        "outputId": "bb0f41f5-9837-4b88-9c67-6c1dd99b8b3d"
      },
      "id": "RaD0BItBzY6h",
      "execution_count": 46,
      "outputs": [
        {
          "output_type": "execute_result",
          "data": {
            "text/plain": [
              "(10000, 3072)"
            ]
          },
          "metadata": {},
          "execution_count": 46
        }
      ]
    },
    {
      "cell_type": "code",
      "source": [
        "X_val[0]"
      ],
      "metadata": {
        "colab": {
          "base_uri": "https://localhost:8080/"
        },
        "id": "-f6bca9Ox40A",
        "outputId": "fc7af4cd-ca49-4659-9fde-f8eaba2bc965"
      },
      "id": "-f6bca9Ox40A",
      "execution_count": 40,
      "outputs": [
        {
          "output_type": "execute_result",
          "data": {
            "text/plain": [
              "array([0.23137255, 0.24313725, 0.24705882, ..., 0.48235294, 0.36078431,\n",
              "       0.28235294])"
            ]
          },
          "metadata": {},
          "execution_count": 40
        }
      ]
    },
    {
      "cell_type": "code",
      "source": [
        "X_val[0].shape"
      ],
      "metadata": {
        "colab": {
          "base_uri": "https://localhost:8080/"
        },
        "id": "u_HkCodyx57M",
        "outputId": "8cc6a064-a2e4-4ffd-b550-a90f58918e04"
      },
      "id": "u_HkCodyx57M",
      "execution_count": 42,
      "outputs": [
        {
          "output_type": "execute_result",
          "data": {
            "text/plain": [
              "(3072,)"
            ]
          },
          "metadata": {},
          "execution_count": 42
        }
      ]
    },
    {
      "cell_type": "code",
      "source": [
        "test = np.expand_dims(X_val[0], axis = 0)\n",
        "test.shape"
      ],
      "metadata": {
        "colab": {
          "base_uri": "https://localhost:8080/"
        },
        "id": "dKrXx7xGyIw7",
        "outputId": "7f4e0c90-50aa-4888-b252-eb001961ba90"
      },
      "id": "dKrXx7xGyIw7",
      "execution_count": 45,
      "outputs": [
        {
          "output_type": "execute_result",
          "data": {
            "text/plain": [
              "(1, 3072)"
            ]
          },
          "metadata": {},
          "execution_count": 45
        }
      ]
    },
    {
      "cell_type": "code",
      "source": [
        "for number in range(10):\n",
        "  test_img = np.expand_dims (X_val[number], axis = 0)\n",
        "  predicted_val= model_2.predict(test_img)[0]\n",
        "  predicted_value = np.argmax(predicted_val, axis= 0)\n",
        "  print(f'Actual value: {y_val[number][0]} vs. predicted: {predicted_value}')"
      ],
      "metadata": {
        "colab": {
          "base_uri": "https://localhost:8080/"
        },
        "id": "s286DK1f3HGT",
        "outputId": "eeb44a89-7799-48c5-ef73-74240cd5d299"
      },
      "id": "s286DK1f3HGT",
      "execution_count": 72,
      "outputs": [
        {
          "output_type": "stream",
          "name": "stdout",
          "text": [
            "1/1 [==============================] - 0s 90ms/step\n",
            "Actual value: 6 vs. predicted: 6\n",
            "1/1 [==============================] - 0s 89ms/step\n",
            "Actual value: 9 vs. predicted: 1\n",
            "1/1 [==============================] - 0s 84ms/step\n",
            "Actual value: 9 vs. predicted: 9\n",
            "1/1 [==============================] - 0s 49ms/step\n",
            "Actual value: 4 vs. predicted: 4\n",
            "1/1 [==============================] - 0s 72ms/step\n",
            "Actual value: 1 vs. predicted: 1\n",
            "1/1 [==============================] - 0s 107ms/step\n",
            "Actual value: 1 vs. predicted: 1\n",
            "1/1 [==============================] - 0s 80ms/step\n",
            "Actual value: 2 vs. predicted: 2\n",
            "1/1 [==============================] - 0s 81ms/step\n",
            "Actual value: 7 vs. predicted: 7\n",
            "1/1 [==============================] - 0s 75ms/step\n",
            "Actual value: 8 vs. predicted: 8\n",
            "1/1 [==============================] - 0s 48ms/step\n",
            "Actual value: 3 vs. predicted: 9\n"
          ]
        }
      ]
    },
    {
      "cell_type": "markdown",
      "source": [
        "## Evaluation"
      ],
      "metadata": {
        "id": "LDa8BISM9vLj"
      },
      "id": "LDa8BISM9vLj"
    },
    {
      "cell_type": "code",
      "source": [
        "test_loss, test_accuracy = model_2.evaluate(X_test, y_test)\n",
        "print(f'Test loss is {test_loss:0.3} and test accuracy is {test_accuracy:0.1%}')"
      ],
      "metadata": {
        "colab": {
          "base_uri": "https://localhost:8080/"
        },
        "id": "09UCWTpR7caP",
        "outputId": "84f88e2b-17f0-4ca5-ca74-1a047a87de9d"
      },
      "id": "09UCWTpR7caP",
      "execution_count": 62,
      "outputs": [
        {
          "output_type": "stream",
          "name": "stdout",
          "text": [
            "313/313 [==============================] - 2s 6ms/step - loss: 1.4424 - accuracy: 0.4891\n",
            "Test loss is 1.44 and test accuracy is 48.9%\n"
          ]
        }
      ]
    },
    {
      "cell_type": "markdown",
      "source": [
        "## Confusion Matrix"
      ],
      "metadata": {
        "id": "Q8b9oxAZ_wyy"
      },
      "id": "Q8b9oxAZ_wyy"
    },
    {
      "cell_type": "code",
      "source": [
        "X_test, y_test"
      ],
      "metadata": {
        "colab": {
          "base_uri": "https://localhost:8080/"
        },
        "id": "t51hsAqLAZYx",
        "outputId": "153a859a-5fee-4de2-e0ce-3549e0b7878f"
      },
      "id": "t51hsAqLAZYx",
      "execution_count": 65,
      "outputs": [
        {
          "output_type": "execute_result",
          "data": {
            "text/plain": [
              "(array([[0.61960784, 0.43921569, 0.19215686, ..., 0.08235294, 0.2627451 ,\n",
              "         0.43137255],\n",
              "        [0.92156863, 0.92156863, 0.92156863, ..., 0.72941176, 0.78431373,\n",
              "         0.78039216],\n",
              "        [0.61960784, 0.74509804, 0.87058824, ..., 0.02745098, 0.03137255,\n",
              "         0.02745098],\n",
              "        ...,\n",
              "        [0.07843137, 0.05882353, 0.04705882, ..., 0.09803922, 0.07843137,\n",
              "         0.18431373],\n",
              "        [0.09803922, 0.15686275, 0.04705882, ..., 0.36078431, 0.47058824,\n",
              "         0.31372549],\n",
              "        [0.28627451, 0.30588235, 0.29411765, ..., 0.10588235, 0.10196078,\n",
              "         0.10196078]]),\n",
              " array([[3],\n",
              "        [8],\n",
              "        [8],\n",
              "        ...,\n",
              "        [5],\n",
              "        [1],\n",
              "        [7]], dtype=uint8))"
            ]
          },
          "metadata": {},
          "execution_count": 65
        }
      ]
    },
    {
      "cell_type": "code",
      "source": [
        "pred = model_2.predict(X_test)\n",
        "predictions = np.argmax(pred, axis = 1)\n",
        "conf_matrix = confusion_matrix(y_true = y_test, y_pred = predictions)"
      ],
      "metadata": {
        "colab": {
          "base_uri": "https://localhost:8080/"
        },
        "id": "y-lrLCvG-2EA",
        "outputId": "8cd10805-5972-4656-f133-00547608f690"
      },
      "id": "y-lrLCvG-2EA",
      "execution_count": 69,
      "outputs": [
        {
          "output_type": "stream",
          "name": "stdout",
          "text": [
            "313/313 [==============================] - 1s 3ms/step\n"
          ]
        }
      ]
    },
    {
      "cell_type": "code",
      "source": [
        "predictions"
      ],
      "metadata": {
        "colab": {
          "base_uri": "https://localhost:8080/"
        },
        "id": "QbQWQYU7AODw",
        "outputId": "fdcae973-e686-4e46-cf84-191ad19e72ee"
      },
      "id": "QbQWQYU7AODw",
      "execution_count": 70,
      "outputs": [
        {
          "output_type": "execute_result",
          "data": {
            "text/plain": [
              "array([3, 9, 0, ..., 5, 2, 7])"
            ]
          },
          "metadata": {},
          "execution_count": 70
        }
      ]
    },
    {
      "cell_type": "code",
      "source": [
        "conf_matrix.shape"
      ],
      "metadata": {
        "colab": {
          "base_uri": "https://localhost:8080/"
        },
        "id": "1fiOYIQIBSXQ",
        "outputId": "384823d9-9c63-4456-c524-f4ccfe566fb5"
      },
      "id": "1fiOYIQIBSXQ",
      "execution_count": 73,
      "outputs": [
        {
          "output_type": "execute_result",
          "data": {
            "text/plain": [
              "(10, 10)"
            ]
          },
          "metadata": {},
          "execution_count": 73
        }
      ]
    },
    {
      "cell_type": "code",
      "source": [
        "import seaborn as sns\n",
        "import matplotlib.pyplot as plt\n",
        "\n",
        "# Assuming you've already calculated the confusion matrix\n",
        "conf_matrix = confusion_matrix(y_true=y_test, y_pred=predictions)\n",
        "\n",
        "# Create a heatmap using seaborn\n",
        "plt.figure(figsize=(8, 6))  # Adjust the figure size as needed\n",
        "sns.heatmap(conf_matrix, annot=True, fmt='d', cmap='Blues', xticklabels=LABEL_NAMES, yticklabels=LABEL_NAMES)\n",
        "\n",
        "# Add labels and title\n",
        "plt.xlabel('Predicted')\n",
        "plt.ylabel('True')\n",
        "plt.title('Confusion Matrix')\n",
        "\n",
        "# Save the heatmap as an image file (e.g., PNG)\n",
        "plt.savefig('heatmap.png', format='png')\n",
        "\n",
        "# Show the plot\n",
        "plt.show()\n"
      ],
      "metadata": {
        "colab": {
          "base_uri": "https://localhost:8080/",
          "height": 546
        },
        "id": "3wtLf6KkBpn1",
        "outputId": "9b8d55e2-c529-4177-e7a7-b5e75a7cfad5"
      },
      "id": "3wtLf6KkBpn1",
      "execution_count": 77,
      "outputs": [
        {
          "output_type": "display_data",
          "data": {
            "text/plain": [
              "<Figure size 800x600 with 2 Axes>"
            ],
            "image/png": "[encoded data removed]"
          },
          "metadata": {}
        }
      ]
    },
    {
      "cell_type": "code",
      "source": [
        "from sklearn.metrics import accuracy_score, precision_score, f1_score\n",
        "\n",
        "\n",
        "# Calculate accuracy\n",
        "accuracy = accuracy_score(y_test, predictions)\n",
        "\n",
        "# Calculate precision\n",
        "precision = precision_score(y_test, predictions, average='weighted')\n",
        "\n",
        "# Calculate F1-score\n",
        "f1 = f1_score(y_test, predictions, average='weighted')\n",
        "\n",
        "print(\"Accuracy:\", accuracy)\n",
        "print(\"Precision:\", precision)\n",
        "print(\"F1-Score:\", f1)\n"
      ],
      "metadata": {
        "colab": {
          "base_uri": "https://localhost:8080/"
        },
        "id": "4Hxi_0uNB684",
        "outputId": "f9256f00-e232-4252-d415-f3f9ebb469c4"
      },
      "id": "4Hxi_0uNB684",
      "execution_count": 75,
      "outputs": [
        {
          "output_type": "stream",
          "name": "stdout",
          "text": [
            "Accuracy: 0.4891\n",
            "Precision: 0.4964109181432007\n",
            "F1-Score: 0.48900720653077634\n"
          ]
        }
      ]
    },
    {
      "cell_type": "code",
      "source": [],
      "metadata": {
        "id": "2nCoBX49Cxh-"
      },
      "id": "2nCoBX49Cxh-",
      "execution_count": null,
      "outputs": []
    }
  ],
  "metadata": {
    "kernelspec": {
      "display_name": "Python 3 (ipykernel)",
      "language": "python",
      "name": "python3"
    },
    "language_info": {
      "codemirror_mode": {
        "name": "ipython",
        "version": 3
      },
      "file_extension": ".py",
      "mimetype": "text/x-python",
      "name": "python",
      "nbconvert_exporter": "python",
      "pygments_lexer": "ipython3",
      "version": "3.11.3"
    },
    "colab": {
      "provenance": []
    }
  },
  "nbformat": 4,
  "nbformat_minor": 5
}